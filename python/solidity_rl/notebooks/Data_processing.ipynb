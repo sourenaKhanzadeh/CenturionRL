{
 "cells": [
  {
   "cell_type": "code",
   "execution_count": 1,
   "metadata": {},
   "outputs": [],
   "source": [
    "import json\n",
    "import os\n",
    "import pandas as pd\n",
    "from solidity_rl.utils.contract_parser import parse_contract"
   ]
  },
  {
   "cell_type": "code",
   "execution_count": 2,
   "metadata": {},
   "outputs": [],
   "source": [
    "def load_contracts(directory=\"contracts/\"):\n",
    "    \"\"\"Loads and parses all Solidity contracts in a directory.\"\"\"\n",
    "    contracts_data = []\n",
    "    for filename in os.listdir(directory):\n",
    "        if filename.endswith(\".sol\"):\n",
    "            contract_path = os.path.join(directory, filename)\n",
    "            ast = parse_contract(contract_path)\n",
    "            contracts_data.append({\"filename\": filename, \"ast\": ast})\n",
    "    return contracts_data"
   ]
  },
  {
   "cell_type": "code",
   "execution_count": 3,
   "metadata": {},
   "outputs": [],
   "source": [
    "def save_parsed_data(contracts_data, output_file=\"data/processed/contracts_data.json\"):\n",
    "    \"\"\"Saves parsed contract data to a JSON file.\"\"\"\n",
    "    os.makedirs(os.path.dirname(output_file), exist_ok=True)\n",
    "    with open(output_file, \"w\") as file:\n",
    "        json.dump(contracts_data, file, indent=4)\n",
    "    print(f\"Parsed contract data saved to {output_file}\")"
   ]
  },
  {
   "cell_type": "code",
   "execution_count": 4,
   "metadata": {},
   "outputs": [],
   "source": [
    "def convert_to_dataframe(contracts_data):\n",
    "    \"\"\"Converts parsed contract data to a pandas DataFrame.\"\"\"\n",
    "    data = [{\"filename\": contract[\"filename\"], \"num_nodes\": len(contract[\"ast\"]) if contract[\"ast\"] else 0} for contract in contracts_data]\n",
    "    return pd.DataFrame(data)"
   ]
  },
  {
   "cell_type": "code",
   "execution_count": 5,
   "metadata": {},
   "outputs": [
    {
     "name": "stdout",
     "output_type": "stream",
     "text": [
      "Using Solidity version: 0.8.0\n",
      "Installing Solidity version 0.8.0...\n",
      "Parsed contract data saved to data/processed/contracts_data.json\n",
      "     filename  num_nodes\n",
      "0  sample.sol          7\n"
     ]
    }
   ],
   "source": [
    "contracts_data = load_contracts(\"../data/raw_contracts/\")\n",
    "save_parsed_data(contracts_data)\n",
    "df = convert_to_dataframe(contracts_data)\n",
    "print(df.head())"
   ]
  }
 ],
 "metadata": {
  "kernelspec": {
   "display_name": "solidity_rl",
   "language": "python",
   "name": "python3"
  },
  "language_info": {
   "codemirror_mode": {
    "name": "ipython",
    "version": 3
   },
   "file_extension": ".py",
   "mimetype": "text/x-python",
   "name": "python",
   "nbconvert_exporter": "python",
   "pygments_lexer": "ipython3",
   "version": "3.10.8"
  }
 },
 "nbformat": 4,
 "nbformat_minor": 2
}
