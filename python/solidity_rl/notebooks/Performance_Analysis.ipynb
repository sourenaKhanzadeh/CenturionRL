{
 "cells": [
  {
   "cell_type": "code",
   "execution_count": 6,
   "metadata": {},
   "outputs": [],
   "source": [
    "import os\n",
    "import json\n",
    "import numpy as np\n",
    "import pandas as pd\n",
    "import matplotlib.pyplot as plt\n",
    "import seaborn as sns\n",
    "\n",
    "from solidity_rl.utils.metrics import compute_gas_savings_metrics, compute_training_performance\n",
    "from solidity_rl.utils.visualization import plot_rewards, plot_gas_savings\n"
   ]
  },
  {
   "cell_type": "code",
   "execution_count": 8,
   "metadata": {},
   "outputs": [
    {
     "ename": "FileNotFoundError",
     "evalue": "Training log file not found: ../data/results/logs/training_logs.json",
     "output_type": "error",
     "traceback": [
      "\u001b[1;31m---------------------------------------------------------------------------\u001b[0m",
      "\u001b[1;31mFileNotFoundError\u001b[0m                         Traceback (most recent call last)",
      "Cell \u001b[1;32mIn[8], line 9\u001b[0m\n\u001b[0;32m      7\u001b[0m         training_data \u001b[38;5;241m=\u001b[39m json\u001b[38;5;241m.\u001b[39mload(file)\n\u001b[0;32m      8\u001b[0m \u001b[38;5;28;01melse\u001b[39;00m:\n\u001b[1;32m----> 9\u001b[0m     \u001b[38;5;28;01mraise\u001b[39;00m \u001b[38;5;167;01mFileNotFoundError\u001b[39;00m(\u001b[38;5;124mf\u001b[39m\u001b[38;5;124m\"\u001b[39m\u001b[38;5;124mTraining log file not found: \u001b[39m\u001b[38;5;132;01m{\u001b[39;00mlog_path\u001b[38;5;132;01m}\u001b[39;00m\u001b[38;5;124m\"\u001b[39m)\n\u001b[0;32m     11\u001b[0m \u001b[38;5;66;03m# Convert logs into DataFrame\u001b[39;00m\n\u001b[0;32m     12\u001b[0m df_training \u001b[38;5;241m=\u001b[39m pd\u001b[38;5;241m.\u001b[39mDataFrame(training_data)\n",
      "\u001b[1;31mFileNotFoundError\u001b[0m: Training log file not found: ../data/results/logs/training_logs.json"
     ]
    }
   ],
   "source": [
    "# Define path to RL training logs\n",
    "log_path = \"../data/results/logs/training_logs.json\"\n",
    "\n",
    "# Load training log data\n",
    "if os.path.exists(log_path):\n",
    "    with open(log_path, \"r\") as file:\n",
    "        training_data = json.load(file)\n",
    "else:\n",
    "    raise FileNotFoundError(f\"Training log file not found: {log_path}\")\n",
    "\n",
    "# Convert logs into DataFrame\n",
    "df_training = pd.DataFrame(training_data)\n",
    "display(df_training.head())\n"
   ]
  },
  {
   "cell_type": "code",
   "execution_count": 4,
   "metadata": {},
   "outputs": [],
   "source": [
    "def analyze_gas_savings(benchmark_results):\n",
    "    \"\"\"Analyzes gas savings from benchmark results.\"\"\"\n",
    "    original_gas = [entry[\"original_gas\"] for entry in benchmark_results]\n",
    "    optimized_gas = [entry[\"optimized_gas\"] for entry in benchmark_results]\n",
    "    metrics = compute_gas_savings_metrics(original_gas, optimized_gas)\n",
    "    print(\"Gas Savings Metrics:\", metrics)\n",
    "    plot_gas_savings(original_gas, optimized_gas)"
   ]
  },
  {
   "cell_type": "code",
   "execution_count": 5,
   "metadata": {},
   "outputs": [],
   "source": [
    "def analyze_training_performance(training_rewards):\n",
    "    \"\"\"Analyzes training performance of RL models.\"\"\"\n",
    "    metrics = compute_training_performance(training_rewards)\n",
    "    print(\"Training Performance Metrics:\", metrics)\n",
    "    plot_rewards(training_rewards)"
   ]
  },
  {
   "cell_type": "code",
   "execution_count": null,
   "metadata": {},
   "outputs": [],
   "source": [
    "benchmark_results = load_benchmark_results()\n",
    "if benchmark_results:\n",
    "    analyze_gas_savings(benchmark_results)\n",
    "\n",
    "# Simulate training rewards for visualization\n",
    "training_rewards = np.random.randint(-50, 100, 100)\n",
    "analyze_training_performance(training_rewards)"
   ]
  }
 ],
 "metadata": {
  "kernelspec": {
   "display_name": "solidity_rl",
   "language": "python",
   "name": "python3"
  },
  "language_info": {
   "codemirror_mode": {
    "name": "ipython",
    "version": 3
   },
   "file_extension": ".py",
   "mimetype": "text/x-python",
   "name": "python",
   "nbconvert_exporter": "python",
   "pygments_lexer": "ipython3",
   "version": "3.10.8"
  }
 },
 "nbformat": 4,
 "nbformat_minor": 2
}
